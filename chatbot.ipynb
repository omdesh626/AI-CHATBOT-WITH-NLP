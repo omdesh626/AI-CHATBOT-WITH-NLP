{
 "cells": [
  {
   "cell_type": "code",
   "execution_count": null,
   "id": "7852881e-3033-4584-a178-b19b7155cb20",
   "metadata": {},
   "outputs": [
    {
     "name": "stdout",
     "output_type": "stream",
     "text": [
      "Chatbot: Hello! I'm ChatBuddy. Type 'bye' to exit.\n"
     ]
    },
    {
     "name": "stdout",
     "output_type": "stream",
     "text": [
      "You:  hello\n"
     ]
    },
    {
     "name": "stdout",
     "output_type": "stream",
     "text": [
      "Chatbot: Hi there! How can I help you today?\n"
     ]
    },
    {
     "name": "stdout",
     "output_type": "stream",
     "text": [
      "You:  how are you?\n"
     ]
    },
    {
     "name": "stdout",
     "output_type": "stream",
     "text": [
      "Chatbot: I'm just a program, but I'm doing great! How about you?\n"
     ]
    },
    {
     "name": "stdout",
     "output_type": "stream",
     "text": [
      "You:  WHAT IS YOUR NAME?\n"
     ]
    },
    {
     "name": "stdout",
     "output_type": "stream",
     "text": [
      "Chatbot: I'm your friendly AI chatbot. You can call me ChatBuddy!\n"
     ]
    }
   ],
   "source": [
    "import spacy\n",
    "\n",
    "nlp = spacy.load(\"en_core_web_sm\")\n",
    "\n",
    "knowledge_base = {\n",
    "    \"hello\": \"Hi there! How can I help you today?\",\n",
    "    \"how are you\": \"I'm just a program, but I'm doing great! How about you?\",\n",
    "    \"what is your name\": \"I'm your friendly AI chatbot. You can call me ChatBuddy!\",\n",
    "    \"bye\": \"Goodbye! Have a great day!\",\n",
    "    \"default\": \"I'm sorry, I didn't understand that. Can you please rephrase?\"\n",
    "}\n",
    "\n",
    "def response(user_input):\n",
    "    user_input = user_input.lower()\n",
    "    doc = nlp(user_input)\n",
    "    for ent in doc.ents:\n",
    "        print(f\"Entity: {ent.text}, Label: {ent.label_}\")\n",
    "    for key in knowledge_base.keys():\n",
    "        if key in user_input:\n",
    "            return knowledge_base[key]\n",
    "\n",
    "\n",
    "    return knowledge_base[\"default\"]\n",
    "\n",
    "def chatbot():\n",
    "    print(\"Chatbot: Hello! I'm ChatBuddy. Type 'bye' to exit.\")\n",
    "    while True:\n",
    "        user_input = input(\"You: \")\n",
    "        if \"bye\" in user_input.lower():\n",
    "            print(\"Chatbot: Goodbye!\")\n",
    "            break\n",
    "        responses = response(user_input)\n",
    "        print(f\"Chatbot: {responses}\")\n",
    "\n",
    "\n",
    "if __name__ == \"__main__\":\n",
    "    chatbot()\n",
    "    \n",
    "print(\"This is demo line\")\n"
   ]
  },
  {
   "cell_type": "code",
   "execution_count": null,
   "id": "d567890b-39a0-415c-abbe-10e18881871e",
   "metadata": {},
   "outputs": [],
   "source": []
  }
 ],
 "metadata": {
  "kernelspec": {
   "display_name": "Python 3 (ipykernel)",
   "language": "python",
   "name": "python3"
  },
  "language_info": {
   "codemirror_mode": {
    "name": "ipython",
    "version": 3
   },
   "file_extension": ".py",
   "mimetype": "text/x-python",
   "name": "python",
   "nbconvert_exporter": "python",
   "pygments_lexer": "ipython3",
   "version": "3.11.7"
  }
 },
 "nbformat": 4,
 "nbformat_minor": 5
}
